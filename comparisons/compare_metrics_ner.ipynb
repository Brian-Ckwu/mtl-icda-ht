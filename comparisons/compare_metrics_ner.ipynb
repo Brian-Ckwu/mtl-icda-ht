{
 "cells": [
  {
   "cell_type": "code",
   "execution_count": 1,
   "metadata": {},
   "outputs": [
    {
     "name": "stderr",
     "output_type": "stream",
     "text": [
      "/home/ckwu/miniconda3/envs/cuda-11.3/lib/python3.8/site-packages/tqdm/auto.py:22: TqdmWarning: IProgress not found. Please update jupyter and ipywidgets. See https://ipywidgets.readthedocs.io/en/stable/user_install.html\n",
      "  from .autonotebook import tqdm as notebook_tqdm\n"
     ]
    }
   ],
   "source": [
    "import sys\n",
    "import re\n",
    "import gc\n",
    "sys.path.append(\"/nfs/nas-7.1/ckwu/mtl-icda-ht\")\n",
    "\n",
    "import json\n",
    "import pickle\n",
    "from pathlib import Path\n",
    "from argparse import Namespace\n",
    "\n",
    "import pandas as pd\n",
    "\n",
    "import torch\n",
    "from torch.utils.data import Dataset, DataLoader\n",
    "from scipy.stats import ttest_rel\n",
    "from transformers import AutoTokenizer\n",
    "\n",
    "from utilities.data import MedicalNERIOBDataset, MedicalDxNERIOBDataset, convert_icds_to_indices, split_by_div\n",
    "from utilities.model import BertNERModel, BertDxNERModel, encoder_names_mapping\n",
    "from utilities.utils import move_bert_input_to_device, set_seeds\n",
    "from utilities.evaluation import predict_whole_set_ner, ids_to_iobs, calc_seqeval_metrics, get_top_k_accuracies, get_evaluations\n",
    "\n",
    "import seqeval.metrics\n",
    "from seqeval.scheme import IOB2"
   ]
  },
  {
   "cell_type": "markdown",
   "metadata": {},
   "source": [
    "## k-Fold Cross Validation"
   ]
  },
  {
   "cell_type": "markdown",
   "metadata": {},
   "source": [
    "### Prerequisite"
   ]
  },
  {
   "cell_type": "code",
   "execution_count": null,
   "metadata": {},
   "outputs": [],
   "source": [
    "\"\"\"\n",
    "    Configuration\n",
    "\"\"\"\n",
    "config = json.loads(Path(\"./dx_ner_config.json\").read_bytes())\n",
    "args = Namespace(**config)\n",
    "set_seeds(args.seed)\n",
    "\n",
    "\"\"\"\n",
    "    Data\n",
    "\"\"\"\n",
    "emrs = pickle.loads(Path(args.emr_path).read_bytes())\n",
    "icds = pickle.loads(Path(args.dx_path).read_bytes())\n",
    "icd_ids = convert_icds_to_indices(icds, full_code=args.fc)\n",
    "ner_spans_l = pickle.loads(Path(args.ner_spans_l_path).read_bytes())\n",
    "data_l = [emrs, icd_ids, ner_spans_l]\n",
    "\n",
    "\"\"\"\n",
    "    Others\n",
    "\"\"\"\n",
    "tokenizer = AutoTokenizer.from_pretrained(encoder_names_mapping[args.tokenizer])\n",
    "NUM_DX_LABELS = 97"
   ]
  },
  {
   "cell_type": "markdown",
   "metadata": {},
   "source": [
    "### Eval Loop"
   ]
  },
  {
   "cell_type": "code",
   "execution_count": null,
   "metadata": {},
   "outputs": [],
   "source": [
    "seqeval_d = {\n",
    "    \"token_acc\": list(),\n",
    "    \"precision\": list(),\n",
    "    \"recall\": list(),\n",
    "    \"f1-score\": list()\n",
    "}\n",
    "\n",
    "for k in range(args.fold):\n",
    "    print(f\"Start evaluating fold = {k}:\\n\")\n",
    "    # Config\n",
    "    args.ckpt_path = re.sub(pattern=r\"remainder\\-\\d\", repl=f\"remainder-{k}\", string=args.ckpt_path)\n",
    "    args.ckpt_path\n",
    "    # Data\n",
    "    valid_emrs, valid_dxs, valid_ners = [split_by_div(data, args.fold, remainder=k, mode=\"valid\") for data in data_l]\n",
    "    valid_set = MedicalDxNERIOBDataset(valid_emrs, valid_dxs, valid_ners, tokenizer)\n",
    "    valid_loader = DataLoader(valid_set, args.bs, shuffle=False, pin_memory=True, collate_fn=valid_set.collate_fn)\n",
    "\n",
    "    # Model\n",
    "    model = BertDxNERModel(\n",
    "        encoder=encoder_names_mapping[args.encoder],\n",
    "        dx_label_size=NUM_DX_LABELS,\n",
    "        ner_label_size=valid_set.num_ner_labels,\n",
    "        loss_weights=args.lw\n",
    "    )\n",
    "    model.load_state_dict(torch.load(args.ckpt_path, map_location=args.device))\n",
    "\n",
    "    # Evaluation\n",
    "    y_pred_raw, y_true_raw = predict_whole_set_ner(model, valid_loader, args.device)\n",
    "    y_pred, y_true = ids_to_iobs(y_pred_raw, y_true_raw, valid_set)\n",
    "    token_acc, p, r, f1 = calc_seqeval_metrics(y_true, y_pred)\n",
    "    for key, value in zip(seqeval_d.keys(), [token_acc, p, r, f1]):\n",
    "        seqeval_d[key].append(value)\n",
    "\n",
    "    del valid_emrs, valid_ners, valid_set, valid_loader, model, y_pred_raw, y_true_raw, y_pred, y_true, token_acc, p, r, f1\n",
    "    gc.collect()"
   ]
  },
  {
   "cell_type": "markdown",
   "metadata": {},
   "source": [
    "### Combine Eval Results"
   ]
  },
  {
   "cell_type": "code",
   "execution_count": null,
   "metadata": {},
   "outputs": [],
   "source": [
    "seqeval_df = pd.DataFrame(seqeval_d)\n",
    "seqeval_df\n",
    "\n",
    "seqeval_mean_df = seqeval_df.mean(axis=0).to_frame().T.rename({0: \"mean\"})\n",
    "seqeval_std_df = seqeval_df.std(axis=0).to_frame().T.rename({0: \"std\"})\n",
    "seqeval_mean_std_df = pd.concat(objs=[seqeval_mean_df, seqeval_std_df])\n",
    "\n",
    "seqeval_mean_std_df"
   ]
  },
  {
   "cell_type": "markdown",
   "metadata": {},
   "source": [
    "### Save Evaluation Results"
   ]
  },
  {
   "cell_type": "code",
   "execution_count": null,
   "metadata": {},
   "outputs": [],
   "source": [
    "args.eval_save_dir = Path(args.eval_save_dir)\n",
    "args.eval_save_dir.mkdir(parents=True, exist_ok=True)\n",
    "\n",
    "seqeval_mean_std_df.to_csv(args.eval_save_dir / f\"{args.encoder}_seqeval_mean_std_df.csv\", index_label=\"index\")"
   ]
  },
  {
   "cell_type": "markdown",
   "metadata": {},
   "source": [
    "### Load Evaluation Results"
   ]
  },
  {
   "cell_type": "code",
   "execution_count": null,
   "metadata": {},
   "outputs": [],
   "source": [
    "to_load = Path(\"/nfs/nas-7.1/ckwu/mtl-icda-ht/comparisons/eval_results/dx_ner/BioBERT_seqeval_mean_std_df.csv\")\n",
    "\n",
    "pd.read_csv(to_load, index_col=\"index\")"
   ]
  },
  {
   "cell_type": "markdown",
   "metadata": {},
   "source": [
    "## Compare Lexical Matching with Neural NER"
   ]
  },
  {
   "cell_type": "markdown",
   "metadata": {},
   "source": [
    "### Load Data"
   ]
  },
  {
   "cell_type": "code",
   "execution_count": 2,
   "metadata": {},
   "outputs": [],
   "source": [
    "emrs = pickle.loads(Path(\"/nfs/nas-7.1/ckwu/datasets/emr/6000/emrs_with_annots.pickle\").read_bytes())\n",
    "ner_spans_l = pickle.loads(Path(\"/nfs/nas-7.1/ckwu/datasets/emr/6000/ner_spans_l.pickle\").read_bytes())\n",
    "ahocora_spans_l = pickle.loads(Path(\"/nfs/nas-7.1/ckwu/datasets/emr/6000/ahocora_spans_l_minlen-3.pickle\").read_bytes())\n",
    "\n",
    "data_l = [emrs, ner_spans_l, ahocora_spans_l]\n",
    "\n",
    "tokenizer = AutoTokenizer.from_pretrained(encoder_names_mapping[\"BERT\"])"
   ]
  },
  {
   "cell_type": "code",
   "execution_count": 3,
   "metadata": {},
   "outputs": [],
   "source": [
    "from tqdm import tqdm\n",
    "\n",
    "def extract_ner_labels(data_loader):\n",
    "    y_raw = list()\n",
    "    for _, y in tqdm(data_loader):\n",
    "        y_raw.append(y.detach().cpu().tolist())\n",
    "    return y_raw"
   ]
  },
  {
   "cell_type": "code",
   "execution_count": 4,
   "metadata": {},
   "outputs": [
    {
     "name": "stdout",
     "output_type": "stream",
     "text": [
      "Start evaluating fold = 0:\n",
      "\n"
     ]
    },
    {
     "name": "stderr",
     "output_type": "stream",
     "text": [
      "100%|██████████| 37/37 [00:02<00:00, 18.09it/s]\n",
      "100%|██████████| 37/37 [00:00<00:00, 90.99it/s]\n"
     ]
    },
    {
     "name": "stdout",
     "output_type": "stream",
     "text": [
      "Start evaluating fold = 1:\n",
      "\n"
     ]
    },
    {
     "name": "stderr",
     "output_type": "stream",
     "text": [
      "100%|██████████| 37/37 [00:00<00:00, 94.94it/s]\n",
      "100%|██████████| 37/37 [00:00<00:00, 93.92it/s]\n"
     ]
    },
    {
     "name": "stdout",
     "output_type": "stream",
     "text": [
      "Start evaluating fold = 2:\n",
      "\n"
     ]
    },
    {
     "name": "stderr",
     "output_type": "stream",
     "text": [
      "100%|██████████| 37/37 [00:00<00:00, 94.75it/s]\n",
      "100%|██████████| 37/37 [00:00<00:00, 93.90it/s]\n"
     ]
    },
    {
     "name": "stdout",
     "output_type": "stream",
     "text": [
      "Start evaluating fold = 3:\n",
      "\n"
     ]
    },
    {
     "name": "stderr",
     "output_type": "stream",
     "text": [
      "100%|██████████| 37/37 [00:00<00:00, 94.68it/s]\n",
      "100%|██████████| 37/37 [00:00<00:00, 93.57it/s]\n"
     ]
    },
    {
     "name": "stdout",
     "output_type": "stream",
     "text": [
      "Start evaluating fold = 4:\n",
      "\n"
     ]
    },
    {
     "name": "stderr",
     "output_type": "stream",
     "text": [
      "100%|██████████| 37/37 [00:00<00:00, 94.03it/s]\n",
      "100%|██████████| 37/37 [00:00<00:00, 93.15it/s]\n"
     ]
    },
    {
     "name": "stdout",
     "output_type": "stream",
     "text": [
      "Start evaluating fold = 5:\n",
      "\n"
     ]
    },
    {
     "name": "stderr",
     "output_type": "stream",
     "text": [
      "100%|██████████| 37/37 [00:00<00:00, 92.45it/s]\n",
      "100%|██████████| 37/37 [00:00<00:00, 93.39it/s]\n"
     ]
    },
    {
     "name": "stdout",
     "output_type": "stream",
     "text": [
      "Start evaluating fold = 6:\n",
      "\n"
     ]
    },
    {
     "name": "stderr",
     "output_type": "stream",
     "text": [
      "100%|██████████| 37/37 [00:00<00:00, 93.33it/s]\n",
      "100%|██████████| 37/37 [00:00<00:00, 94.44it/s]\n"
     ]
    },
    {
     "name": "stdout",
     "output_type": "stream",
     "text": [
      "Start evaluating fold = 7:\n",
      "\n"
     ]
    },
    {
     "name": "stderr",
     "output_type": "stream",
     "text": [
      "100%|██████████| 37/37 [00:00<00:00, 90.19it/s]\n",
      "100%|██████████| 37/37 [00:00<00:00, 93.56it/s]\n"
     ]
    },
    {
     "name": "stdout",
     "output_type": "stream",
     "text": [
      "Start evaluating fold = 8:\n",
      "\n"
     ]
    },
    {
     "name": "stderr",
     "output_type": "stream",
     "text": [
      "100%|██████████| 37/37 [00:00<00:00, 90.63it/s]\n",
      "100%|██████████| 37/37 [00:00<00:00, 91.29it/s]\n"
     ]
    },
    {
     "name": "stdout",
     "output_type": "stream",
     "text": [
      "Start evaluating fold = 9:\n",
      "\n"
     ]
    },
    {
     "name": "stderr",
     "output_type": "stream",
     "text": [
      "100%|██████████| 37/37 [00:00<00:00, 91.21it/s]\n",
      "100%|██████████| 37/37 [00:00<00:00, 90.96it/s]\n"
     ]
    }
   ],
   "source": [
    "folds = 10\n",
    "seqeval_d = {\n",
    "    \"token_acc\": list(),\n",
    "    \"precision\": list(),\n",
    "    \"recall\": list(),\n",
    "    \"f1-score\": list()\n",
    "}\n",
    "\n",
    "for k in range(folds):\n",
    "    print(f\"Start evaluating fold = {k}:\\n\")\n",
    "    # Data\n",
    "    valid_emrs, valid_ners, valid_ahos = [split_by_div(data, folds, remainder=k, mode=\"valid\") for data in data_l]\n",
    "    ner_set = MedicalNERIOBDataset(valid_emrs, valid_ners, tokenizer)\n",
    "    aho_set = MedicalNERIOBDataset(valid_emrs, valid_ahos, tokenizer)\n",
    "    ner_loader = DataLoader(ner_set, batch_size=16, shuffle=False, pin_memory=True, collate_fn=ner_set.collate_fn)\n",
    "    aho_loader = DataLoader(aho_set, batch_size=16, shuffle=False, pin_memory=True, collate_fn=ner_set.collate_fn)\n",
    "\n",
    "    # # Evaluation\n",
    "    y_pred_raw, y_true_raw = extract_ner_labels(aho_loader), extract_ner_labels(ner_loader)\n",
    "    y_pred, y_true = ids_to_iobs(y_pred_raw, y_true_raw, ner_set)\n",
    "    token_acc, p, r, f1 = calc_seqeval_metrics(y_true, y_pred)\n",
    "    for key, value in zip(seqeval_d.keys(), [token_acc, p, r, f1]):\n",
    "        seqeval_d[key].append(value)\n",
    "\n",
    "    del valid_emrs, valid_ners, valid_ahos, ner_set, aho_set, ner_loader, aho_loader, y_pred_raw, y_true_raw, y_pred, y_true, token_acc, p, r, f1\n",
    "    gc.collect()"
   ]
  },
  {
   "cell_type": "code",
   "execution_count": 5,
   "metadata": {},
   "outputs": [
    {
     "data": {
      "text/html": [
       "<div>\n",
       "<style scoped>\n",
       "    .dataframe tbody tr th:only-of-type {\n",
       "        vertical-align: middle;\n",
       "    }\n",
       "\n",
       "    .dataframe tbody tr th {\n",
       "        vertical-align: top;\n",
       "    }\n",
       "\n",
       "    .dataframe thead th {\n",
       "        text-align: right;\n",
       "    }\n",
       "</style>\n",
       "<table border=\"1\" class=\"dataframe\">\n",
       "  <thead>\n",
       "    <tr style=\"text-align: right;\">\n",
       "      <th></th>\n",
       "      <th>token_acc</th>\n",
       "      <th>precision</th>\n",
       "      <th>recall</th>\n",
       "      <th>f1-score</th>\n",
       "    </tr>\n",
       "  </thead>\n",
       "  <tbody>\n",
       "    <tr>\n",
       "      <th>mean</th>\n",
       "      <td>0.892088</td>\n",
       "      <td>0.689962</td>\n",
       "      <td>0.649427</td>\n",
       "      <td>0.669059</td>\n",
       "    </tr>\n",
       "    <tr>\n",
       "      <th>std</th>\n",
       "      <td>0.001456</td>\n",
       "      <td>0.004565</td>\n",
       "      <td>0.007290</td>\n",
       "      <td>0.004636</td>\n",
       "    </tr>\n",
       "  </tbody>\n",
       "</table>\n",
       "</div>"
      ],
      "text/plain": [
       "      token_acc  precision    recall  f1-score\n",
       "mean   0.892088   0.689962  0.649427  0.669059\n",
       "std    0.001456   0.004565  0.007290  0.004636"
      ]
     },
     "execution_count": 5,
     "metadata": {},
     "output_type": "execute_result"
    }
   ],
   "source": [
    "seqeval_df = pd.DataFrame(seqeval_d)\n",
    "seqeval_df\n",
    "\n",
    "seqeval_mean_df = seqeval_df.mean(axis=0).to_frame().T.rename({0: \"mean\"})\n",
    "seqeval_std_df = seqeval_df.std(axis=0).to_frame().T.rename({0: \"std\"})\n",
    "seqeval_mean_std_df = pd.concat(objs=[seqeval_mean_df, seqeval_std_df])\n",
    "\n",
    "seqeval_mean_std_df"
   ]
  }
 ],
 "metadata": {
  "interpreter": {
   "hash": "35b66dd0c8f752918e1728d86abaa8fb004a7dee1d90779ea4d0023d852f9fe7"
  },
  "kernelspec": {
   "display_name": "Python 3.8.13 ('cuda-11.3')",
   "language": "python",
   "name": "python3"
  },
  "language_info": {
   "codemirror_mode": {
    "name": "ipython",
    "version": 3
   },
   "file_extension": ".py",
   "mimetype": "text/x-python",
   "name": "python",
   "nbconvert_exporter": "python",
   "pygments_lexer": "ipython3",
   "version": "3.8.13"
  },
  "orig_nbformat": 4
 },
 "nbformat": 4,
 "nbformat_minor": 2
}
