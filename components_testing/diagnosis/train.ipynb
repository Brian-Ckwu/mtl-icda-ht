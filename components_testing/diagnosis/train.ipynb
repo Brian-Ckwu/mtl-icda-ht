{
 "cells": [
  {
   "cell_type": "code",
   "execution_count": null,
   "metadata": {},
   "outputs": [],
   "source": [
    "\"\"\"\n",
    "    Import Packages\n",
    "\"\"\"\n",
    "import sys\n",
    "sys.path.append(\"../../\")\n",
    "\n",
    "import pickle\n",
    "from pathlib import Path\n",
    "from argparse import Namespace\n",
    "from collections import Counter\n",
    "\n",
    "import warnings\n",
    "import torch\n",
    "import torch.nn as nn\n",
    "import json\n",
    "from torch.utils.data import DataLoader\n",
    "from transformers import AutoModel, AutoTokenizer\n",
    "\n",
    "from utilities.data import MedicalDxDataset, DxBatchCollator, convert_icds_to_indices, split_by_div\n",
    "from utilities.model import BertDxModel, encoder_names_mapping\n",
    "\n",
    "warnings.filterwarnings(\"ignore\")"
   ]
  },
  {
   "cell_type": "code",
   "execution_count": null,
   "metadata": {},
   "outputs": [],
   "source": [
    "\"\"\"\n",
    "    Configuration\n",
    "\"\"\"\n",
    "with open(\"./config.json\") as f:\n",
    "    config = json.load(f)\n",
    "\n",
    "assert torch.cuda.is_available()\n",
    "device = \"cuda\"\n",
    "\n",
    "same_seeds(config[\"seed\"])"
   ]
  },
  {
   "cell_type": "code",
   "execution_count": null,
   "metadata": {},
   "outputs": [],
   "source": [
    "\"\"\"\n",
    "    Data\n",
    "\"\"\"\n",
    "emr_file = \"/nfs/nas-7.1/ckwu/datasets/emr/6000/docs_0708.json\"\n",
    "emrs, dxs = list(), list()\n",
    "with jsonlines.open(emr_file) as f:\n",
    "    for doc in f:\n",
    "        if doc[\"annotations\"]: # leave out un-annotated files\n",
    "            emrs.append(doc[\"text\"])\n",
    "            dxs.append(doc[\"ICD\"])\n",
    "\n",
    "dx_labels = convert_icds_to_indices(dxs, full_code=True)\n",
    "del dxs\n",
    "\n",
    "# train/val split\n",
    "x_train, y_train = [split_by_div(data, config[\"fold\"], remainder=0, mode=\"train\") for data in [emrs, dx_labels]]\n",
    "x_val, y_val = [split_by_div(data, config[\"fold\"], remainder=0, mode=\"val\") for data in [emrs, dx_labels]]\n",
    "\n",
    "# make dataset\n",
    "tokenizer = BertTokenizerFast.from_pretrained(\"bert-base-uncased\")\n",
    "train_dataset = MedicalDiagnosisDataset(x_train, y_train, tokenizer)\n",
    "val_dataset = MedicalDiagnosisDataset(x_val, y_val, tokenizer)\n",
    "\n",
    "# make dataloader\n",
    "batch_collator = DxBatchCollator(tokenizer)\n",
    "train_loader = DataLoader(train_dataset, config[\"batch_size\"], shuffle=True, pin_memory=True, collate_fn=batch_collator)\n",
    "val_loader = DataLoader(val_dataset, config[\"batch_size\"], shuffle=False, pin_memory=True, collate_fn=batch_collator)\n",
    "del x_train, y_train, x_val, y_val"
   ]
  },
  {
   "cell_type": "code",
   "execution_count": null,
   "metadata": {},
   "outputs": [],
   "source": [
    "\"\"\"\n",
    "    Model\n",
    "\"\"\"\n",
    "model = BERTClassification(**config[\"model_config\"]).to(device)\n",
    "criterion = nn.CrossEntropyLoss(reduction=\"mean\")"
   ]
  },
  {
   "cell_type": "code",
   "execution_count": null,
   "metadata": {},
   "outputs": [],
   "source": [
    "\"\"\"\n",
    "    Optimization\n",
    "\"\"\"\n",
    "record = trainer(train_loader, val_loader, model, criterion, config, device)"
   ]
  },
  {
   "cell_type": "code",
   "execution_count": null,
   "metadata": {},
   "outputs": [],
   "source": [
    "with open(\"./eval_results/{}.json\".format(config[\"model_save_name\"]), mode=\"wt\") as f:\n",
    "    json.dump(record, f)"
   ]
  }
 ],
 "metadata": {
  "interpreter": {
   "hash": "d36bacadd0665529eea11cf0e685dbe0df5591baeef20597c1b063990f001dc3"
  },
  "kernelspec": {
   "display_name": "Python 3.9.1 ('pytorch')",
   "language": "python",
   "name": "python3"
  },
  "language_info": {
   "codemirror_mode": {
    "name": "ipython",
    "version": 3
   },
   "file_extension": ".py",
   "mimetype": "text/x-python",
   "name": "python",
   "nbconvert_exporter": "python",
   "pygments_lexer": "ipython3",
   "version": "3.8.13"
  },
  "orig_nbformat": 4
 },
 "nbformat": 4,
 "nbformat_minor": 2
}
