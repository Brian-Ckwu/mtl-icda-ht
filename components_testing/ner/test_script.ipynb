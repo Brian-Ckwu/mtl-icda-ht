{
 "cells": [
  {
   "cell_type": "markdown",
   "metadata": {},
   "source": [
    "## Import Packages"
   ]
  },
  {
   "cell_type": "code",
   "execution_count": null,
   "metadata": {},
   "outputs": [],
   "source": [
    "import warnings\n",
    "import sys\n",
    "sys.path.append(\"/nfs/nas-7.1/ckwu/mtl-icda-ht\")\n",
    "\n",
    "import numpy as np\n",
    "import torch\n",
    "import torch.nn as nn\n",
    "import random\n",
    "import json\n",
    "import jsonlines\n",
    "import pickle\n",
    "\n",
    "from argparse import Namespace\n",
    "from pathlib import Path\n",
    "from torch.utils.data import DataLoader\n",
    "from transformers import BertTokenizerFast\n",
    "\n",
    "from utilities.data import MedicalNERIOBDataset, split_by_div\n",
    "from utilities.utils import set_seeds, move_bert_input_to_device, visualize_iob_labels\n",
    "from utilities.model import BertNERModel, encoder_names_mapping\n",
    "\n",
    "warnings.filterwarnings(\"ignore\")"
   ]
  },
  {
   "cell_type": "markdown",
   "metadata": {},
   "source": [
    "## Config"
   ]
  },
  {
   "cell_type": "code",
   "execution_count": null,
   "metadata": {},
   "outputs": [],
   "source": [
    "with open(\"./config.json\") as f:\n",
    "    config = json.load(f)\n",
    "\n",
    "args = Namespace(**config)\n",
    "\n",
    "set_seeds(config[\"seed\"])\n",
    "assert torch.cuda.is_available()"
   ]
  },
  {
   "cell_type": "markdown",
   "metadata": {},
   "source": [
    "## Data"
   ]
  },
  {
   "cell_type": "code",
   "execution_count": null,
   "metadata": {},
   "outputs": [],
   "source": [
    "# load data\n",
    "# x: EMR\n",
    "emr_path = Path(args.emr_path)\n",
    "emrs = pickle.loads(emr_path.read_bytes())\n",
    "# y: NER labels\n",
    "spans_tuples_path = Path(args.ner_spans_tuples_path)\n",
    "spans_tuples = pickle.loads(spans_tuples_path.read_bytes())\n",
    "\n",
    "# train/val split\n",
    "train_emrs, train_labels = [split_by_div(data, fold=args.fold, remainder=args.remainder, mode=\"train\") for data in [emrs, spans_tuples]]\n",
    "valid_emrs, valid_labels = [split_by_div(data, fold=args.fold, remainder=args.remainder, mode=\"valid\") for data in [emrs, spans_tuples]]\n",
    "\n",
    "tokenizer = BertTokenizerFast.from_pretrained(encoder_names_mapping[args.encoder])\n",
    "train_set = MedicalNERIOBDataset(emrs=train_emrs, spans_tuples=train_labels, tokenizer=tokenizer)\n",
    "valid_set = MedicalNERIOBDataset(emrs=valid_emrs, spans_tuples=valid_labels, tokenizer=tokenizer)\n",
    "\n",
    "train_loader = DataLoader(train_set, batch_size=args.bs, shuffle=True, pin_memory=True, collate_fn=train_set.collate_fn)\n",
    "valid_loader = DataLoader(valid_set, batch_size=args.bs, shuffle=False, pin_memory=True, collate_fn=valid_set.collate_fn)"
   ]
  },
  {
   "cell_type": "markdown",
   "metadata": {},
   "source": [
    "## Model"
   ]
  },
  {
   "cell_type": "code",
   "execution_count": null,
   "metadata": {},
   "outputs": [],
   "source": [
    "# load model\n",
    "model = BertNERModel(encoder=encoder_names_mapping[args.encoder], num_tags=train_set.num_tags).to(args.device)\n",
    "model.load_state_dict(torch.load(\"/nfs/nas-7.1/ckwu/mtl-icda-ht/components_testing/ner/models/encoder-BioBERT_nepochs-5_bs-16_lr-4e-05_fold-10_remainder-0.pth\", map_location=args.device))\n",
    "# criterion = nn.CrossEntropyLoss(reduction=\"mean\", ignore_index=-100)"
   ]
  },
  {
   "cell_type": "code",
   "execution_count": null,
   "metadata": {},
   "outputs": [],
   "source": [
    "record = trainer(train_loader, valid_loader, model, criterion, args)"
   ]
  },
  {
   "cell_type": "code",
   "execution_count": null,
   "metadata": {},
   "outputs": [],
   "source": [
    "# save evaluation results\n",
    "with open(\"./eval_results/{}.json\".format(config[\"model_save_name\"]), \"wt\") as f:\n",
    "    json.dump(record, f)"
   ]
  },
  {
   "cell_type": "markdown",
   "metadata": {},
   "source": [
    "## Evaluate Model"
   ]
  },
  {
   "cell_type": "code",
   "execution_count": null,
   "metadata": {},
   "outputs": [],
   "source": [
    "x, y = next(iter(valid_loader))\n",
    "x = move_bert_input_to_device(x, args.device)\n",
    "y = y.to(args.device)"
   ]
  },
  {
   "cell_type": "code",
   "execution_count": null,
   "metadata": {},
   "outputs": [],
   "source": [
    "scores = model(x)"
   ]
  },
  {
   "cell_type": "markdown",
   "metadata": {},
   "source": [
    "## Visualize Labels"
   ]
  },
  {
   "cell_type": "code",
   "execution_count": null,
   "metadata": {},
   "outputs": [],
   "source": [
    "idx = 9\n",
    "\n",
    "input_ids = x[\"input_ids\"][idx].tolist()\n",
    "label_ids = scores.argmax(dim=-1)[idx].tolist()\n",
    "\n",
    "visualize_iob_labels(tokenizer, input_ids, label_ids, train_set.idx2iob)"
   ]
  }
 ],
 "metadata": {
  "interpreter": {
   "hash": "d36bacadd0665529eea11cf0e685dbe0df5591baeef20597c1b063990f001dc3"
  },
  "kernelspec": {
   "display_name": "Python 3.9.1 ('pytorch')",
   "language": "python",
   "name": "python3"
  },
  "language_info": {
   "codemirror_mode": {
    "name": "ipython",
    "version": 3
   },
   "file_extension": ".py",
   "mimetype": "text/x-python",
   "name": "python",
   "nbconvert_exporter": "python",
   "pygments_lexer": "ipython3",
   "version": "3.9.1"
  },
  "orig_nbformat": 4
 },
 "nbformat": 4,
 "nbformat_minor": 2
}
