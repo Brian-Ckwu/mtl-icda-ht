{
 "cells": [
  {
   "cell_type": "code",
   "execution_count": null,
   "metadata": {},
   "outputs": [],
   "source": [
    "import json\n",
    "import pandas as pd"
   ]
  },
  {
   "cell_type": "code",
   "execution_count": null,
   "metadata": {},
   "outputs": [],
   "source": [
    "file_names = [\"lossweights-1.0-{}.json\".format(l) for l in [0.5, 1.0, 2.0, 4.0, 5.0, 6.0, 7.0, 8.0, 12.0, 16.0]]\n",
    "results = dict()\n",
    "\n",
    "for file_name in file_names:\n",
    "    with open(\"./eval_results/{}\".format(file_name)) as f:\n",
    "        result = json.load(f)\n",
    "    results[file_name] = dict()\n",
    "    results[file_name][\"dx_acc\"] = result[\"dx\"][\"acc\"]\n",
    "    results[file_name][\"ner_acc\"] = result[\"ner\"][\"acc\"]"
   ]
  },
  {
   "cell_type": "code",
   "execution_count": null,
   "metadata": {},
   "outputs": [],
   "source": [
    "l = 4.0\n",
    "df = pd.DataFrame(results[\"lossweights-1.0-{}.json\".format(l)])"
   ]
  },
  {
   "cell_type": "code",
   "execution_count": null,
   "metadata": {},
   "outputs": [],
   "source": [
    "print(\"Best dx:\")\n",
    "print(df.iloc[df.idxmax(axis=0)[\"dx_acc\"]])\n",
    "print(\"Best NER:\")\n",
    "print(df.iloc[df.idxmax(axis=0)[\"ner_acc\"]])"
   ]
  },
  {
   "cell_type": "markdown",
   "metadata": {},
   "source": [
    "## Effect of Loss Weights"
   ]
  },
  {
   "cell_type": "code",
   "execution_count": null,
   "metadata": {},
   "outputs": [],
   "source": [
    "import pickle\n",
    "from pathlib import Path"
   ]
  },
  {
   "cell_type": "code",
   "execution_count": null,
   "metadata": {},
   "outputs": [],
   "source": [
    "# Load train logs\n",
    "train_logs = pickle.loads(Path(\"./diff_lw_train_logs.pickle\").read_bytes())\n",
    "lw2s = [0.01, 0.02, 0.05, 0.10, 0.20, 0.50, 1.00, 2.00, 4.00, 5.00, 6.00, 7.00, 8.00, 9.00, 10.0]"
   ]
  },
  {
   "cell_type": "code",
   "execution_count": null,
   "metadata": {},
   "outputs": [],
   "source": [
    "def correct_train_log_fields(train_logs):\n",
    "    for train_log in train_logs:\n",
    "        train_log.dx_loss, train_log.ner_acc = train_log.ner_acc, train_log.dx_loss\n",
    "\n",
    "correct_train_log_fields(train_logs)"
   ]
  },
  {
   "cell_type": "code",
   "execution_count": null,
   "metadata": {},
   "outputs": [],
   "source": [
    "best_dx_accs = list()\n",
    "best_ner_accs = list()\n",
    "\n",
    "for train_log in train_logs:\n",
    "    best_dx_acc = max(train_log.dx_acc)\n",
    "    best_ner_acc = max(train_log.ner_acc)\n",
    "    best_dx_accs.append(best_dx_acc)\n",
    "    best_ner_accs.append(best_ner_acc)"
   ]
  },
  {
   "cell_type": "code",
   "execution_count": null,
   "metadata": {},
   "outputs": [],
   "source": [
    "import pandas as pd"
   ]
  },
  {
   "cell_type": "code",
   "execution_count": null,
   "metadata": {},
   "outputs": [],
   "source": [
    "%matplotlib inline\n",
    "\n",
    "df_best = pd.DataFrame(\n",
    "    data={\n",
    "        \"best_dx_accs\": best_dx_accs,\n",
    "        \"best_ner_accs\": best_ner_accs\n",
    "    },\n",
    "    index=map(lambda x: str(x), lw2s)\n",
    ").drop(axis=0, labels=\"0.05\")"
   ]
  },
  {
   "cell_type": "code",
   "execution_count": null,
   "metadata": {},
   "outputs": [],
   "source": [
    "df_best.best_dx_accs.plot()\n",
    "df_best.best_ner_accs.plot(secondary_y=True)"
   ]
  }
 ],
 "metadata": {
  "interpreter": {
   "hash": "d36bacadd0665529eea11cf0e685dbe0df5591baeef20597c1b063990f001dc3"
  },
  "kernelspec": {
   "display_name": "Python 3.9.1 ('pytorch')",
   "language": "python",
   "name": "python3"
  },
  "language_info": {
   "codemirror_mode": {
    "name": "ipython",
    "version": 3
   },
   "file_extension": ".py",
   "mimetype": "text/x-python",
   "name": "python",
   "nbconvert_exporter": "python",
   "pygments_lexer": "ipython3",
   "version": "3.9.1"
  },
  "orig_nbformat": 4
 },
 "nbformat": 4,
 "nbformat_minor": 2
}
